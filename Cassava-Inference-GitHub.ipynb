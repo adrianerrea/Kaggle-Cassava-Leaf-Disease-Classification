{
 "cells": [
  {
   "cell_type": "markdown",
   "metadata": {},
   "source": [
    "# Kaggle-Cassava-Leaf-Disease-Classification\n",
    "__Main Goal__\n",
    "\n",
    "+ Classifying each image in one of the five possible classes\n",
    "+ Source: https://www.kaggle.com/c/cassava-leaf-disease-classification\n",
    "+ This notebook is for the inference phase"
   ]
  },
  {
   "cell_type": "code",
   "execution_count": 1,
   "metadata": {
    "_cell_guid": "b1076dfc-b9ad-4769-8c92-a6c4dae69d19",
    "_uuid": "8f2839f25d086af736a60e9eeb907d3b93b6e0e5",
    "execution": {
     "iopub.execute_input": "2021-02-06T20:39:13.697229Z",
     "iopub.status.busy": "2021-02-06T20:39:13.696564Z",
     "iopub.status.idle": "2021-02-06T20:39:13.699701Z",
     "shell.execute_reply": "2021-02-06T20:39:13.699215Z"
    },
    "papermill": {
     "duration": 0.028491,
     "end_time": "2021-02-06T20:39:13.699862",
     "exception": false,
     "start_time": "2021-02-06T20:39:13.671371",
     "status": "completed"
    },
    "scrolled": true,
    "tags": []
   },
   "outputs": [],
   "source": [
    "#Loading libraries\n",
    "import numpy as np\n",
    "import matplotlib.pyplot as plt\n",
    "import time\n",
    "import pandas as pd\n",
    "from pathlib import Path\n",
    "import math"
   ]
  },
  {
   "cell_type": "code",
   "execution_count": 2,
   "metadata": {
    "execution": {
     "iopub.execute_input": "2021-02-06T20:39:13.743171Z",
     "iopub.status.busy": "2021-02-06T20:39:13.742608Z",
     "iopub.status.idle": "2021-02-06T20:39:17.020869Z",
     "shell.execute_reply": "2021-02-06T20:39:17.019895Z"
    },
    "papermill": {
     "duration": 3.301482,
     "end_time": "2021-02-06T20:39:17.021026",
     "exception": false,
     "start_time": "2021-02-06T20:39:13.719544",
     "status": "completed"
    },
    "scrolled": true,
    "tags": []
   },
   "outputs": [],
   "source": [
    "#Loading fastai modules\n",
    "from fastai.vision.all import *\n",
    "from fastai.vision.widgets import *\n",
    "from fastai.callback.fp16 import *\n",
    "from fastai.vision import *\n",
    "import fastai\n",
    "import torch\n",
    "from fastai.callback.all import SaveModelCallback\n",
    "from sklearn.metrics import confusion_matrix, classification_report, recall_score, roc_auc_score, cohen_kappa_score\n",
    "import seaborn as sns"
   ]
  },
  {
   "cell_type": "code",
   "execution_count": 3,
   "metadata": {
    "execution": {
     "iopub.execute_input": "2021-02-06T20:39:17.067163Z",
     "iopub.status.busy": "2021-02-06T20:39:17.066619Z",
     "iopub.status.idle": "2021-02-06T20:39:17.098637Z",
     "shell.execute_reply": "2021-02-06T20:39:17.098226Z"
    },
    "papermill": {
     "duration": 0.057634,
     "end_time": "2021-02-06T20:39:17.098752",
     "exception": false,
     "start_time": "2021-02-06T20:39:17.041118",
     "status": "completed"
    },
    "scrolled": true,
    "tags": []
   },
   "outputs": [],
   "source": [
    "#Showing and saving the graphs within this notebook\n",
    "%matplotlib inline\n",
    "#Reload automatically the modules after executing each cell\n",
    "%reload_ext autoreload\n",
    "%autoreload 2"
   ]
  },
  {
   "cell_type": "code",
   "execution_count": 4,
   "metadata": {
    "execution": {
     "iopub.execute_input": "2021-02-06T20:39:17.142328Z",
     "iopub.status.busy": "2021-02-06T20:39:17.141555Z",
     "iopub.status.idle": "2021-02-06T20:39:17.169517Z",
     "shell.execute_reply": "2021-02-06T20:39:17.169097Z"
    },
    "papermill": {
     "duration": 0.050711,
     "end_time": "2021-02-06T20:39:17.169628",
     "exception": false,
     "start_time": "2021-02-06T20:39:17.118917",
     "status": "completed"
    },
    "scrolled": true,
    "tags": []
   },
   "outputs": [],
   "source": [
    "#Path to your csv and images folders\n",
    "path = Path('../input/cassava-leaf-disease-classification')"
   ]
  },
  {
   "cell_type": "code",
   "execution_count": 5,
   "metadata": {
    "execution": {
     "iopub.execute_input": "2021-02-06T20:39:17.213610Z",
     "iopub.status.busy": "2021-02-06T20:39:17.212869Z",
     "iopub.status.idle": "2021-02-06T20:39:17.393200Z",
     "shell.execute_reply": "2021-02-06T20:39:17.391803Z"
    },
    "papermill": {
     "duration": 0.204196,
     "end_time": "2021-02-06T20:39:17.393348",
     "exception": false,
     "start_time": "2021-02-06T20:39:17.189152",
     "status": "completed"
    },
    "scrolled": true,
    "tags": []
   },
   "outputs": [],
   "source": [
    "classes=pd.read_json('../input/cassava-leaf-disease-classification/label_num_to_disease_map.json', typ='series')"
   ]
  },
  {
   "cell_type": "markdown",
   "metadata": {},
   "source": [
    "# Functions"
   ]
  },
  {
   "cell_type": "code",
   "execution_count": 6,
   "metadata": {
    "execution": {
     "iopub.execute_input": "2021-02-06T20:39:17.443099Z",
     "iopub.status.busy": "2021-02-06T20:39:17.437270Z",
     "iopub.status.idle": "2021-02-06T20:39:17.467268Z",
     "shell.execute_reply": "2021-02-06T20:39:17.467636Z"
    },
    "papermill": {
     "duration": 0.054157,
     "end_time": "2021-02-06T20:39:17.467768",
     "exception": false,
     "start_time": "2021-02-06T20:39:17.413611",
     "status": "completed"
    },
    "scrolled": true,
    "tags": []
   },
   "outputs": [],
   "source": [
    "def get_x(r): return path/'train_images'/r['image_id']\n",
    "def get_y(r): return r['label']"
   ]
  },
  {
   "cell_type": "code",
   "execution_count": 7,
   "metadata": {
    "execution": {
     "iopub.execute_input": "2021-02-06T20:39:17.522718Z",
     "iopub.status.busy": "2021-02-06T20:39:17.521934Z",
     "iopub.status.idle": "2021-02-06T20:39:17.553591Z",
     "shell.execute_reply": "2021-02-06T20:39:17.553966Z"
    },
    "papermill": {
     "duration": 0.066698,
     "end_time": "2021-02-06T20:39:17.554116",
     "exception": false,
     "start_time": "2021-02-06T20:39:17.487418",
     "status": "completed"
    },
    "scrolled": true,
    "tags": []
   },
   "outputs": [],
   "source": [
    "def gen_data(size, pre_size,bs=64,metodo='method1'):\n",
    "    if(metodo=='method1'):\n",
    "        datablock = DataBlock(blocks = (ImageBlock, CategoryBlock),\n",
    "                    splitter=RandomSplitter(seed=42),\n",
    "                    item_tfms=Resize(pre_size),\n",
    "                    get_x=get_x, \n",
    "                    get_y=get_y,\n",
    "                    batch_tfms=aug_transforms(size=size, min_scale=0.95))\n",
    "    elif(metodo=='method2'):\n",
    "         datablock = DataBlock(blocks = (ImageBlock, CategoryBlock),\n",
    "                    splitter=RandomSplitter(seed=42),\n",
    "                    item_tfms=Resize(pre_size),\n",
    "                    get_x=get_x, \n",
    "                    get_y=get_y,\n",
    "                    batch_tfms=aug_transforms())\n",
    "\n",
    "    return datablock.dataloaders(data,batch_size=bs)\n",
    "\n",
    "def create_learn(dls, multi_gpu=True, mixup=False, label_smooth_eps=0.1, model=resnet50,metrics=accuracy):\n",
    "    if mixup==False:\n",
    "        learn = cnn_learner(dls, model, metrics=metrics, \n",
    "                        loss_func=LabelSmoothingCrossEntropy(eps=label_smooth_eps))\n",
    "    else:\n",
    "        learn = cnn_learner(dls, model, metrics=metrics, \n",
    "                        loss_func=LabelSmoothingCrossEntropy(eps=label_smooth_eps),\n",
    "                        cbs=MixUp)\n",
    "        print('mixup enabled')\n",
    "    if multi_gpu:\n",
    "        learn.model = nn.DataParallel(learn.model) \n",
    "        print('multi-gpu enabled')\n",
    "    learn.path = path\n",
    "    learn = learn.to_fp16()\n",
    "    return learn\n",
    "\n",
    "def report_metrics(learn, preds):\n",
    "    y_true = preds[1].tolist()\n",
    "    y_probs = preds[0].numpy()\n",
    "    auc = roc_auc_score(y_true, y_probs, multi_class='ovo') # ovo because macro avg is used (ovo is insensitive to class imbalance)\n",
    "    print(f'AUC: {auc}')\n",
    "    y_pred = y_probs.argmax(axis=1)\n",
    "    print(confusion_matrix(y_true, y_pred))\n",
    "    print(classification_report(y_true, y_pred, target_names=list(learn.dls.vocab)))\n",
    "\n",
    "@patch\n",
    "@delegates(subplots)\n",
    "def plot_metrics(self: Recorder, nrows=None, ncols=None, figsize=None, **kwargs):\n",
    "    metrics = np.stack(self.values)\n",
    "    names = self.metric_names[1:-1]\n",
    "    n = len(names) - 1\n",
    "    if nrows is None and ncols is None:\n",
    "        nrows = int(math.sqrt(n))\n",
    "        ncols = int(np.ceil(n / nrows))\n",
    "    elif nrows is None: nrows = int(np.ceil(n / ncols))\n",
    "    elif ncols is None: ncols = int(np.ceil(n / nrows))\n",
    "    figsize = figsize or (ncols * 6, nrows * 4)\n",
    "    fig, axs = subplots(nrows, ncols, figsize=figsize, **kwargs)\n",
    "    axs = [ax if i < n else ax.set_axis_off() for i, ax in enumerate(axs.flatten())][:n]\n",
    "    for i, (name, ax) in enumerate(zip(names, [axs[0]] + axs)):\n",
    "        ax.plot(metrics[:, i], color='#1f77b4' if i == 0 else '#ff7f0e', label='valid' if i > 0 else 'train')\n",
    "        ax.set_title(name if i > 1 else 'losses')\n",
    "        ax.legend(loc='best')\n",
    "    plt.show()"
   ]
  },
  {
   "cell_type": "code",
   "execution_count": 10,
   "metadata": {
    "execution": {
     "iopub.execute_input": "2021-02-06T20:39:25.293451Z",
     "iopub.status.busy": "2021-02-06T20:39:25.292656Z",
     "iopub.status.idle": "2021-02-06T20:39:25.400399Z",
     "shell.execute_reply": "2021-02-06T20:39:25.399847Z"
    },
    "papermill": {
     "duration": 0.135874,
     "end_time": "2021-02-06T20:39:25.400547",
     "exception": false,
     "start_time": "2021-02-06T20:39:25.264673",
     "status": "completed"
    },
    "scrolled": true,
    "tags": []
   },
   "outputs": [],
   "source": [
    "def print_confusion_matrix(y_true,y_preds):\n",
    "    cf_matrix = confusion_matrix(y_true, y_preds)\n",
    "    fig, ax = plt.subplots(figsize=(8,8)) \n",
    "    x_axis_labels = [clases[0],clases[1],clases[2],clases[3],clases[4]]\n",
    "    y_axis_labels  = [clases[0],clases[1],clases[2],clases[3],clases[4]]\n",
    "    sns.heatmap(cf_matrix, linewidths=2, linecolor = 'white', annot=True, ax=ax, fmt='g', xticklabels = x_axis_labels,yticklabels = y_axis_labels, cmap = 'Purples')\n",
    "    plt.xlabel(\"\\nPredicted\", size = 16)\n",
    "    plt.ylabel(\"Truth\\n\", size = 16)\n",
    "    plt.show()"
   ]
  },
  {
   "cell_type": "code",
   "execution_count": 12,
   "metadata": {
    "execution": {
     "iopub.execute_input": "2021-02-06T20:39:25.535445Z",
     "iopub.status.busy": "2021-02-06T20:39:25.534604Z",
     "iopub.status.idle": "2021-02-06T20:39:25.567694Z",
     "shell.execute_reply": "2021-02-06T20:39:25.567223Z"
    },
    "papermill": {
     "duration": 0.059755,
     "end_time": "2021-02-06T20:39:25.567829",
     "exception": false,
     "start_time": "2021-02-06T20:39:25.508074",
     "status": "completed"
    },
    "scrolled": true,
    "tags": []
   },
   "outputs": [],
   "source": [
    "def report_metrics(y_true, y_preds):\n",
    "    print(classification_report(y_true, y_preds, target_names=x_axis_labels))"
   ]
  },
  {
   "cell_type": "markdown",
   "metadata": {},
   "source": [
    "# Inference"
   ]
  },
  {
   "cell_type": "markdown",
   "metadata": {},
   "source": [
    "+ **We load the best model trained on the Cassava-Training-GitHub Notebook**"
   ]
  },
  {
   "cell_type": "code",
   "execution_count": 8,
   "metadata": {
    "execution": {
     "iopub.execute_input": "2021-02-06T20:39:17.597810Z",
     "iopub.status.busy": "2021-02-06T20:39:17.597076Z",
     "iopub.status.idle": "2021-02-06T20:39:17.626456Z",
     "shell.execute_reply": "2021-02-06T20:39:17.626001Z"
    },
    "papermill": {
     "duration": 0.052469,
     "end_time": "2021-02-06T20:39:17.626564",
     "exception": false,
     "start_time": "2021-02-06T20:39:17.574095",
     "status": "completed"
    },
    "scrolled": true,
    "tags": []
   },
   "outputs": [],
   "source": [
    "filename = '../input/model2/finalized_model2.sav'"
   ]
  },
  {
   "cell_type": "code",
   "execution_count": 9,
   "metadata": {
    "execution": {
     "iopub.execute_input": "2021-02-06T20:39:17.670783Z",
     "iopub.status.busy": "2021-02-06T20:39:17.670027Z",
     "iopub.status.idle": "2021-02-06T20:39:25.241625Z",
     "shell.execute_reply": "2021-02-06T20:39:25.240218Z"
    },
    "papermill": {
     "duration": 7.595123,
     "end_time": "2021-02-06T20:39:25.241768",
     "exception": false,
     "start_time": "2021-02-06T20:39:17.646645",
     "status": "completed"
    },
    "scrolled": true,
    "tags": []
   },
   "outputs": [],
   "source": [
    "learn = pickle.load(open(filename, 'rb'))"
   ]
  },
  {
   "cell_type": "code",
   "execution_count": 11,
   "metadata": {
    "execution": {
     "iopub.execute_input": "2021-02-06T20:39:25.448558Z",
     "iopub.status.busy": "2021-02-06T20:39:25.447690Z",
     "iopub.status.idle": "2021-02-06T20:39:25.485965Z",
     "shell.execute_reply": "2021-02-06T20:39:25.485462Z"
    },
    "papermill": {
     "duration": 0.06423,
     "end_time": "2021-02-06T20:39:25.486112",
     "exception": false,
     "start_time": "2021-02-06T20:39:25.421882",
     "status": "completed"
    },
    "tags": []
   },
   "outputs": [],
   "source": [
    "x_axis_labels = [classes[0],classes[1],classes[2],classes[3],classes[4]]"
   ]
  },
  {
   "cell_type": "code",
   "execution_count": null,
   "metadata": {
    "execution": {
     "iopub.execute_input": "2021-02-06T20:39:27.106401Z",
     "iopub.status.busy": "2021-02-06T20:39:27.105488Z",
     "iopub.status.idle": "2021-02-06T20:39:27.155369Z",
     "shell.execute_reply": "2021-02-06T20:39:27.155838Z"
    },
    "papermill": {
     "duration": 0.07865,
     "end_time": "2021-02-06T20:39:27.155999",
     "exception": false,
     "start_time": "2021-02-06T20:39:27.077349",
     "status": "completed"
    },
    "scrolled": true,
    "tags": []
   },
   "outputs": [],
   "source": [
    "#Submission example\n",
    "sample_df = pd.read_csv('../input/cassava-leaf-disease-classification/sample_submission.csv')\n",
    "sample_df.head()"
   ]
  },
  {
   "cell_type": "code",
   "execution_count": 31,
   "metadata": {
    "execution": {
     "iopub.execute_input": "2021-02-06T20:39:27.208850Z",
     "iopub.status.busy": "2021-02-06T20:39:27.208101Z",
     "iopub.status.idle": "2021-02-06T20:39:27.239015Z",
     "shell.execute_reply": "2021-02-06T20:39:27.239446Z"
    },
    "papermill": {
     "duration": 0.058288,
     "end_time": "2021-02-06T20:39:27.239588",
     "exception": false,
     "start_time": "2021-02-06T20:39:27.181300",
     "status": "completed"
    },
    "scrolled": true,
    "tags": []
   },
   "outputs": [],
   "source": [
    "sample_copy = sample_df.copy()"
   ]
  },
  {
   "cell_type": "code",
   "execution_count": 32,
   "metadata": {
    "execution": {
     "iopub.execute_input": "2021-02-06T20:39:27.292315Z",
     "iopub.status.busy": "2021-02-06T20:39:27.291496Z",
     "iopub.status.idle": "2021-02-06T20:39:27.322604Z",
     "shell.execute_reply": "2021-02-06T20:39:27.322167Z"
    },
    "papermill": {
     "duration": 0.05922,
     "end_time": "2021-02-06T20:39:27.322714",
     "exception": false,
     "start_time": "2021-02-06T20:39:27.263494",
     "status": "completed"
    },
    "scrolled": true,
    "tags": []
   },
   "outputs": [],
   "source": [
    "path=Path('../')"
   ]
  },
  {
   "cell_type": "code",
   "execution_count": 33,
   "metadata": {
    "execution": {
     "iopub.execute_input": "2021-02-06T20:39:27.374600Z",
     "iopub.status.busy": "2021-02-06T20:39:27.373644Z",
     "iopub.status.idle": "2021-02-06T20:39:27.405638Z",
     "shell.execute_reply": "2021-02-06T20:39:27.405238Z"
    },
    "papermill": {
     "duration": 0.059391,
     "end_time": "2021-02-06T20:39:27.405751",
     "exception": false,
     "start_time": "2021-02-06T20:39:27.346360",
     "status": "completed"
    },
    "scrolled": true,
    "tags": []
   },
   "outputs": [],
   "source": [
    "#We create a dataframe with all the test images and we add it to the dataloader\n",
    "sample_copy['image_id'] = sample_copy['image_id'].apply(lambda x: path/'input/cassava-leaf-disease-classification/test_images'/x)"
   ]
  },
  {
   "cell_type": "code",
   "execution_count": 34,
   "metadata": {
    "execution": {
     "iopub.execute_input": "2021-02-06T20:39:27.456314Z",
     "iopub.status.busy": "2021-02-06T20:39:27.455548Z",
     "iopub.status.idle": "2021-02-06T20:39:27.489884Z",
     "shell.execute_reply": "2021-02-06T20:39:27.490291Z"
    },
    "papermill": {
     "duration": 0.061316,
     "end_time": "2021-02-06T20:39:27.490435",
     "exception": false,
     "start_time": "2021-02-06T20:39:27.429119",
     "status": "completed"
    },
    "scrolled": true,
    "tags": []
   },
   "outputs": [],
   "source": [
    "test_dl = learn.dls.test_dl(sample_copy)"
   ]
  },
  {
   "cell_type": "code",
   "execution_count": 35,
   "metadata": {
    "execution": {
     "iopub.execute_input": "2021-02-06T20:39:27.548105Z",
     "iopub.status.busy": "2021-02-06T20:39:27.547163Z",
     "iopub.status.idle": "2021-02-06T20:39:28.479090Z",
     "shell.execute_reply": "2021-02-06T20:39:28.479513Z"
    },
    "papermill": {
     "duration": 0.964444,
     "end_time": "2021-02-06T20:39:28.479661",
     "exception": false,
     "start_time": "2021-02-06T20:39:27.515217",
     "status": "completed"
    },
    "scrolled": true,
    "tags": []
   },
   "outputs": [
    {
     "data": {
      "image/png": "[encoded data removed]",
      "text/plain": [
       "<Figure size 216x216 with 1 Axes>"
      ]
     },
     "metadata": {
      "needs_background": "light"
     },
     "output_type": "display_data"
    }
   ],
   "source": [
    "test_dl.show_batch()"
   ]
  },
  {
   "cell_type": "markdown",
   "metadata": {},
   "source": [
    "+ **We use Test Time Augmentation (tta) for each prediction in order to improve the performance**"
   ]
  },
  {
   "cell_type": "code",
   "execution_count": 36,
   "metadata": {
    "execution": {
     "iopub.execute_input": "2021-02-06T20:39:28.536047Z",
     "iopub.status.busy": "2021-02-06T20:39:28.535306Z",
     "iopub.status.idle": "2021-02-06T20:39:30.671789Z",
     "shell.execute_reply": "2021-02-06T20:39:30.670756Z"
    },
    "papermill": {
     "duration": 2.166218,
     "end_time": "2021-02-06T20:39:30.671924",
     "exception": false,
     "start_time": "2021-02-06T20:39:28.505706",
     "status": "completed"
    },
    "scrolled": true,
    "tags": []
   },
   "outputs": [
    {
     "data": {
      "text/html": [
       "\n",
       "    <div>\n",
       "        <style>\n",
       "            /* Turns off some styling */\n",
       "            progress {\n",
       "                /* gets rid of default border in Firefox and Opera. */\n",
       "                border: none;\n",
       "                /* Needs to be in here for Safari polyfill so background images work as expected. */\n",
       "                background-size: auto;\n",
       "            }\n",
       "            .progress-bar-interrupted, .progress-bar-interrupted::-webkit-progress-bar {\n",
       "                background: #F44336;\n",
       "            }\n",
       "        </style>\n",
       "      <progress value='0' class='' max='50' style='width:300px; height:20px; vertical-align: middle;'></progress>\n",
       "      \n",
       "    </div>\n",
       "    \n"
      ],
      "text/plain": [
       "<IPython.core.display.HTML object>"
      ]
     },
     "metadata": {},
     "output_type": "display_data"
    },
    {
     "data": {
      "text/html": [],
      "text/plain": [
       "<IPython.core.display.HTML object>"
      ]
     },
     "metadata": {},
     "output_type": "display_data"
    }
   ],
   "source": [
    "preds, _ = learn.tta(dl=test_dl)"
   ]
  },
  {
   "cell_type": "code",
   "execution_count": 37,
   "metadata": {
    "execution": {
     "iopub.execute_input": "2021-02-06T20:39:30.732872Z",
     "iopub.status.busy": "2021-02-06T20:39:30.732125Z",
     "iopub.status.idle": "2021-02-06T20:39:30.768792Z",
     "shell.execute_reply": "2021-02-06T20:39:30.768361Z"
    },
    "papermill": {
     "duration": 0.069706,
     "end_time": "2021-02-06T20:39:30.768903",
     "exception": false,
     "start_time": "2021-02-06T20:39:30.699197",
     "status": "completed"
    },
    "scrolled": true,
    "tags": []
   },
   "outputs": [],
   "source": [
    "sample_df['label'] = preds.argmax(dim=-1).numpy()"
   ]
  },
  {
   "cell_type": "code",
   "execution_count": 38,
   "metadata": {
    "execution": {
     "iopub.execute_input": "2021-02-06T20:39:30.828504Z",
     "iopub.status.busy": "2021-02-06T20:39:30.827632Z",
     "iopub.status.idle": "2021-02-06T20:39:30.861212Z",
     "shell.execute_reply": "2021-02-06T20:39:30.860677Z"
    },
    "papermill": {
     "duration": 0.064924,
     "end_time": "2021-02-06T20:39:30.861325",
     "exception": false,
     "start_time": "2021-02-06T20:39:30.796401",
     "status": "completed"
    },
    "scrolled": true,
    "tags": []
   },
   "outputs": [],
   "source": [
    "#We export the dataframe to a csv that will be the submission to the kaggle platform\n",
    "sample_df.to_csv('submission.csv',index=False)"
   ]
  }
 ],
 "metadata": {
  "kernelspec": {
   "display_name": "Python 3",
   "language": "python",
   "name": "python3"
  },
  "language_info": {
   "codemirror_mode": {
    "name": "ipython",
    "version": 3
   },
   "file_extension": ".py",
   "mimetype": "text/x-python",
   "name": "python",
   "nbconvert_exporter": "python",
   "pygments_lexer": "ipython3",
   "version": "3.7.9"
  },
  "papermill": {
   "default_parameters": {},
   "duration": 24.806906,
   "end_time": "2021-02-06T20:39:33.118847",
   "environment_variables": {},
   "exception": null,
   "input_path": "__notebook__.ipynb",
   "output_path": "__notebook__.ipynb",
   "parameters": {},
   "start_time": "2021-02-06T20:39:08.311941",
   "version": "2.2.2"
  },
  "toc": {
   "base_numbering": 1,
   "nav_menu": {},
   "number_sections": true,
   "sideBar": true,
   "skip_h1_title": false,
   "title_cell": "Table of Contents",
   "title_sidebar": "Contents",
   "toc_cell": false,
   "toc_position": {},
   "toc_section_display": true,
   "toc_window_display": true
  }
 },
 "nbformat": 4,
 "nbformat_minor": 4
}
